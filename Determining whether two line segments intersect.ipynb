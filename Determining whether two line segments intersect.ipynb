{
 "cells": [
  {
   "cell_type": "code",
   "execution_count": 3,
   "id": "e13a104a",
   "metadata": {},
   "outputs": [
    {
     "name": "stdout",
     "output_type": "stream",
     "text": [
      "enter x1: 0\n",
      "enter y1: 2\n",
      "enter x2: 2\n",
      "enter y2: 0\n",
      "enter x3: 1\n",
      "enter y3: 1\n",
      "enter x4: 1\n",
      "enter y4: 4\n",
      "first segment: [(0, 2), (2, 0)]\n",
      "second segment: [(1, 1), (1, 4)]\n",
      " An endpoint of second segment lies on the other segment.\n",
      "\n",
      "Segments intersect\n"
     ]
    },
    {
     "data": {
      "image/png": "[encoded data removed]",
      "text/plain": [
       "<Figure size 432x288 with 1 Axes>"
      ]
     },
     "metadata": {
      "needs_background": "light"
     },
     "output_type": "display_data"
    }
   ],
   "source": [
    "import matplotlib.pyplot as plt\n",
    "class Point:\n",
    "    def __init__(self, x, y):\n",
    "        self.x = x\n",
    "        self.y = y\n",
    "\n",
    "def onSegment(p, q, r):\n",
    "    if ( (min(p.x, q.x) <= r.x <= max(p.x, q.x)) and \n",
    "           (min(p.y, q.y) <= r.y <= max(p.y, q.y)) ):\n",
    "        return True\n",
    "    return False\n",
    "\n",
    "\n",
    "def orientation(p, q, r):\n",
    "    d = (float(q.y - p.y) * float(r.x - p.x)) - (float(q.x - p.x) * float(r.y - p.y))\n",
    "    \n",
    "    if (d > 0):\n",
    "        return 1\n",
    "    elif (d < 0):\n",
    "        return 2   \n",
    "    else:\n",
    "        return 0\n",
    "    \n",
    "\n",
    "def doIntersect(p1,p2,p3,p4):\n",
    "    d1 = orientation(p1, p2, p3)\n",
    "    d2 = orientation(p1, p2, p4)\n",
    "    d3 = orientation(p3, p4, p1)\n",
    "    d4 = orientation(p3, p4, p2)\n",
    "\n",
    "    \n",
    "    \n",
    "    if ((d1 == 0) and onSegment(p1, p2, p3)):\n",
    "        print(\" An endpoint of second segment lies on the other segment.\\n\")\n",
    "        return True\n",
    "  \n",
    "    if ((d2 == 0) and onSegment(p1, p2, p4)):\n",
    "        print(\" An endpoint of second segment lies on the other segment.\\n\")\n",
    "        return True\n",
    "  \n",
    "    if ((d3 == 0) and onSegment(p3, p4, p1)):\n",
    "        print(\" An endpoint of first segment lies on the other segment.\\n\")\n",
    "        return True\n",
    "  \n",
    "    if ((d4 == 0) and onSegment(p3, p4, p2)):\n",
    "        print(\" An endpoint of first segment lies on the other segment.\\n\")\n",
    "        return True\n",
    "    \n",
    "    if ((d1!=d2)  and (d3!=d4)):\n",
    "        print(\" Each segment straddles the line containing the other.\\n\")\n",
    "        return True\n",
    "      \n",
    "    print(\" Each segment does not straddles the line containing the other.\\n\")\n",
    "    return False\n",
    "\n",
    "\n",
    "x1,y1 = eval(input('enter x1: ')), eval(input('enter y1: '))\n",
    "p1=Point(x1,y1)\n",
    "x2,y2 = eval(input('enter x2: ')), eval(input('enter y2: '))\n",
    "p2=Point(x2,y2)\n",
    "x3,y3 = eval(input('enter x3: ')), eval(input('enter y3: '))\n",
    "p3=Point(x3,y3)\n",
    "x4,y4 = eval(input('enter x4: ')), eval(input('enter y4: '))\n",
    "p4=Point(x4,y4)\n",
    "\n",
    "plt.plot((x1,x2), (y1,y2), '.r-')\n",
    "plt.plot((x3,x4), (y3,y4), '.b-')\n",
    "\n",
    "print(\"first segment:\", [(x1,y1),(x2,y2)])\n",
    "print(\"second segment:\", [(x3,y3),(x4,y4)])\n",
    "  \n",
    "if doIntersect(p1, p2, p3, p4):\n",
    "    print(\"Segments intersect\")\n",
    "else:\n",
    "    print(\"Segments does not intersect\")\n",
    "\n",
    "plt.show()\n",
    "\n"
   ]
  }
 ],
 "metadata": {
  "kernelspec": {
   "display_name": "Python 3 (ipykernel)",
   "language": "python",
   "name": "python3"
  },
  "language_info": {
   "codemirror_mode": {
    "name": "ipython",
    "version": 3
   },
   "file_extension": ".py",
   "mimetype": "text/x-python",
   "name": "python",
   "nbconvert_exporter": "python",
   "pygments_lexer": "ipython3",
   "version": "3.9.7"
  }
 },
 "nbformat": 4,
 "nbformat_minor": 5
}

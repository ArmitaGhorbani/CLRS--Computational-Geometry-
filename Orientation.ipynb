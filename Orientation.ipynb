{
 "cells": [
  {
   "cell_type": "code",
   "execution_count": 2,
   "id": "b4cdda3c",
   "metadata": {},
   "outputs": [
    {
     "name": "stdout",
     "output_type": "stream",
     "text": [
      "enter x1: 50\n",
      "enter y1: 50\n",
      "enter x2: 100\n",
      "enter y2: 10\n",
      "p2 is clockwise from p1\n"
     ]
    },
    {
     "data": {
      "image/png": "[encoded data removed]",
      "text/plain": [
       "<Figure size 432x288 with 1 Axes>"
      ]
     },
     "metadata": {
      "needs_background": "light"
     },
     "output_type": "display_data"
    }
   ],
   "source": [
    "import matplotlib.pyplot as plt\n",
    "\n",
    "class Point:\n",
    "    def __init__(self, x, y):\n",
    "        self.x = x\n",
    "        self.y = y\n",
    "        \n",
    "def orientation(p, q):\n",
    "    d = ((q.y) * (p.x)) - ((q.x) * (p.y))\n",
    "    \n",
    "    if (d > 0):\n",
    "        return 1\n",
    "     \n",
    "    elif (d < 0):\n",
    "        return 2\n",
    "     \n",
    "    else:\n",
    "        return 0\n",
    "    \n",
    "x1,y1 = eval(input('enter x1: ')), eval(input('enter y1: '))\n",
    "p1=Point(x1,y1)\n",
    "x2,y2 = eval(input('enter x2: ')), eval(input('enter y2: '))\n",
    "p2=Point(x2,y2)\n",
    "\n",
    "plt.plot((0,x1), (0,y1), marker = \".\")\n",
    "plt.plot((0,x2), (0,y2), marker = \".\")\n",
    "\n",
    "\n",
    "if orientation(p1,p2) == 1:\n",
    "    print(\"p2 is counterclockwise from p1\")\n",
    "elif orientation(p1,p2) == 2:\n",
    "    print(\"p2 is clockwise from p1\")\n",
    "else:\n",
    "    print (\"p1 and p2 are colinear\")\n",
    "    "
   ]
  }
 ],
 "metadata": {
  "kernelspec": {
   "display_name": "Python 3 (ipykernel)",
   "language": "python",
   "name": "python3"
  },
  "language_info": {
   "codemirror_mode": {
    "name": "ipython",
    "version": 3
   },
   "file_extension": ".py",
   "mimetype": "text/x-python",
   "name": "python",
   "nbconvert_exporter": "python",
   "pygments_lexer": "ipython3",
   "version": "3.9.7"
  }
 },
 "nbformat": 4,
 "nbformat_minor": 5
}

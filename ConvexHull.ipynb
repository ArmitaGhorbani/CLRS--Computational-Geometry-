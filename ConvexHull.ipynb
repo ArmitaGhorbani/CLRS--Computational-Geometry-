{
 "cells": [
  {
   "cell_type": "code",
   "execution_count": 1,
   "id": "9d3c30e8",
   "metadata": {
    "scrolled": true
   },
   "outputs": [
    {
     "name": "stdout",
     "output_type": "stream",
     "text": [
      "given points:  [(7, 3), (5, 6), (5, 9), (2, 3), (3, 9), (2, 9), (0, 2), (1, 0)]\n"
     ]
    },
    {
     "data": {
      "image/png": "[encoded data removed]",
      "text/plain": [
       "<Figure size 720x216 with 2 Axes>"
      ]
     },
     "metadata": {
      "needs_background": "light"
     },
     "output_type": "display_data"
    },
    {
     "name": "stdout",
     "output_type": "stream",
     "text": [
      "vertices of convex hull: [(1, 0), (7, 3), (5, 9), (2, 9), (0, 2)]\n"
     ]
    }
   ],
   "source": [
    "from functools import cmp_to_key\n",
    "import matplotlib.pyplot as plt\n",
    "from random import *\n",
    "\n",
    "def orientation(p, q, r):\n",
    "    '''Returns the orientation of the triplet (p, q, r).\n",
    "    Returns 0 if they are collinear, 1 if clockwise, and 2 if counter-clockwise.'''\n",
    "    val = (q[1] - p[1]) * (r[0] - q[0]) - (q[0] - p[0]) * (r[1] - q[1])\n",
    "    if val == 0:\n",
    "        return 0\n",
    "    return 1 if val > 0 else 2\n",
    "\n",
    "def compare(p1, p2, anchor):\n",
    "    '''Compares two points based on their polar angle with respect to the anchor point.'''\n",
    "    o = orientation(anchor, p1, p2)\n",
    "    if o == 0:\n",
    "        return -1 if (p1[0] + p1[1]) < (p2[0] + p2[1]) else 1\n",
    "    return -1 if o == 2 else 1\n",
    "\n",
    "def graham_scan(points):\n",
    "    '''Returns the convex hull of a set of points using the Graham scan algorithm.'''\n",
    "    n = len(points)\n",
    "    if n < 3:\n",
    "        return []\n",
    "    hull = []\n",
    "    ymin = points[0][1]\n",
    "    min_idx = 0\n",
    "    for i in range(1, n):\n",
    "        if points[i][1] < ymin or (points[i][1] == ymin and points[i][0] < points[min_idx][0]):\n",
    "            ymin = points[i][1]\n",
    "            min_idx = i\n",
    "    anchor = points[min_idx]\n",
    "    points.pop(min_idx)\n",
    "    points.sort(key=cmp_to_key(lambda p1, p2: compare(p1, p2, anchor)))\n",
    "    hull.append(anchor)\n",
    "    hull.append(points[0])\n",
    "    for i in range(1, n-1):\n",
    "        while len(hull) > 1 and orientation(hull[-2], hull[-1], points[i]) != 2:\n",
    "            hull.pop()\n",
    "        hull.append(points[i])\n",
    "    if orientation(hull[-2], hull[-1], anchor) != 2:\n",
    "        hull.pop()\n",
    "    points.append(anchor)\n",
    "    return hull\n",
    "\n",
    "\n",
    "points = []\n",
    "while len(points) < 8:\n",
    "    rand = (randint(0, 10), randint(0,9))\n",
    "    if rand not in points:\n",
    "        points.append(rand)\n",
    "\n",
    "convex_hull = graham_scan(points)\n",
    "print(\"given points: \", points)\n",
    "\n",
    "x = []\n",
    "y = []\n",
    "for point in points:\n",
    "    x.append(point[0])\n",
    "    y.append(point[1])\n",
    "\n",
    "x1 = []\n",
    "y1 = []\n",
    "for point in convex_hull:\n",
    "    x1.append(point[0])\n",
    "    y1.append(point[1])\n",
    "x1.append(convex_hull[0][0])\n",
    "y1.append(convex_hull[0][1])\n",
    "\n",
    "\n",
    "fig, (ax1, ax2) = plt.subplots(ncols=2, figsize=(10, 3))\n",
    "for ax in (ax1, ax2):\n",
    "    ax.plot(x, y, '.', color='k')\n",
    "    if ax == ax1:\n",
    "        ax.set_title('Given points')\n",
    "    else:\n",
    "        ax.set_title('Convex hull')\n",
    "        \n",
    "        ax.plot(x1, y1 , 'c')\n",
    "        ax.plot(x1, y1, 'o', mec='r', color='none', lw=1, markersize=10)\n",
    "    ax.set_xticks(range(10))\n",
    "    ax.set_yticks(range(10))\n",
    "plt.show()\n",
    "\n",
    "\n",
    "print(\"vertices of convex hull:\", convex_hull)"
   ]
  }
 ],
 "metadata": {
  "kernelspec": {
   "display_name": "Python 3 (ipykernel)",
   "language": "python",
   "name": "python3"
  },
  "language_info": {
   "codemirror_mode": {
    "name": "ipython",
    "version": 3
   },
   "file_extension": ".py",
   "mimetype": "text/x-python",
   "name": "python",
   "nbconvert_exporter": "python",
   "pygments_lexer": "ipython3",
   "version": "3.9.7"
  }
 },
 "nbformat": 4,
 "nbformat_minor": 5
}
